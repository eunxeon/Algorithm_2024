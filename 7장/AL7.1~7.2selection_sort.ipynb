{
 "cells": [
  {
   "cell_type": "markdown",
   "metadata": {},
   "source": [
    "#####    알고리즘 7.1~7..2 알고리즘(피보나치수열[메모리제이션 이용],피보나치수열[테이블화 이용])\n",
    "#####    알고리즘 설명:\n",
    "         메모리제이션을 이용한 피보나치수열: 함수의 결과를 저장할 메모리 공간을 준비해 두고, 한 번 계산한 값을 저장해 두었다가 재활용하는 최적화 기법을 \n",
    "         메모이제이션이라 한다. 암기를 의미하는 메모라이제이션과 다른 단어임을 유의하라. 메모이제이션은 분할 정복으로 구현한 방법과 같이 하향식으로 문제를\n",
    "         해결하는데, 한 법 풀린 문제는 답을 메모리에 저장해 재활용하는 전략을 사용함\n",
    "         문제를 풀 때마다 이미 풀린 문제인지를 먼저 확인한다.풀린 문제이면 저장된 답을 이용하고, 풀리지 않은 문제이면 그 문제를 풀고 답을 다시 저장한다\n",
    "         \n",
    "         테이블화를 이용한 피보나치수열: 테이블화는 부분 문제의 해를 메모리에 저장한다는 점은 메모이제이션과 같지만 메모리의 항목들을 순서적으로 채워나가는 것에 초점을 맟춘다. 이 방법은 상향식으로 문제를 해결한다.\n",
    "         결과를 저장할 테이블을 먼저 만든다. 다음으로 답이 이미 알려진 단순한 상황, 즉 기반 상황에 대한 테이블 항목을 먼저 채우고, 이들을 바탕으로 테이블을 채워서 올라간다.\n",
    "\n",
    "#####   손으로 푼 예제 : \n",
    "def fib_dp_mem(n):                  \n",
    "    if(mem[n]==None):                       \n",
    "        if n<2:                    \n",
    "            mem[n] = n                           \n",
    "        else:                          \n",
    "            mem[n] = fib_dp_mem(n-1)+fib_dp_mem(n-2)                         \n",
    "    return mem[n]                \n",
    "\n",
    "def fib_dp_tab(n):                 \n",
    "    f = [None]*(n+1)                   \n",
    "    f[0] =0                 \n",
    "    f[1]=1                          \n",
    "    for i in range(2,n+1):                   \n",
    "        f[i] = f[i-1]+f[i-2]                      \n",
    "    return f[n]-1] =A[i]                        \n",
    "        count[A[i]]-=1                                   \n",
    "\n",
    "    for i in range(len(A)):                                    \n",
    "        A[i] = output[i]                                   \n",
    "                                    \n",
    "######    코드 개요(입력 변수, 출력, 함수 설명) \n",
    "######    입력 변수: \n",
    "n=8          \n",
    "print('동적계획(테이블화): Fibonacci(%d) ='%n,fib_dp_tab(n))     \n",
    "mem=[None]*(n+1)         \n",
    "print('동적계획(메모리제이션): Fibonacci(%d)='%n,fib_dp_mem(n))                          \n",
    "#####    출력:  \n",
    "          동적계획(테이블화): Fibonacci(8) = 21\n",
    "          동적계획(메모리제이션): Fibonacci(8)= 21          \n",
    "            \n",
    "#####    복잡도 분석 : O(n)이다. \n",
    "피보나치수열(메모리제이션)은 모든 부분  문제를 정확히 한 번씩  처리하고 이러한 부분 문제의 수가 n개이다 따라서 시간 복잡도는 O(n)이다 그리고 답을 저장하기 위해 테이블 mem이 추가적으로 필요하고 크기는 n+1이다 따라서 공간 복잡도는 O(n)이다.\n",
    "\n",
    "피보나치수열(테이블화 이용) 알고리즘은 순환호출을 사용하지 않고 5행에서 n번 반복하는 하나의 루프를 사용하므로 시간 복잡도 명백히 O(n)이다 메모리제이션과 같이 O(n)의 추가 메모리를 사용하지만 이들을 전역변수로 선언할 필요는 없다. 물론  두 방법의 결과는 동일하다."
   ]
  },
  {
   "cell_type": "code",
   "execution_count": 1,
   "metadata": {},
   "outputs": [
    {
     "name": "stdout",
     "output_type": "stream",
     "text": [
      "동적계획(테이블화): Fibonacci(8) = 21\n",
      "동적계획(메모리제이션): Fibonacci(8)= 21\n"
     ]
    }
   ],
   "source": [
    "def fib_dp_mem(n):\n",
    "    if(mem[n]==None): \n",
    "        if n<2:\n",
    "            mem[n] = n\n",
    "        else:\n",
    "            mem[n] = fib_dp_mem(n-1)+fib_dp_mem(n-2)\n",
    "    return mem[n]\n",
    "\n",
    "def fib_dp_tab(n):\n",
    "    f = [None]*(n+1)\n",
    "    f[0] =0\n",
    "    f[1]=1\n",
    "    for i in range(2,n+1):\n",
    "        f[i] = f[i-1]+f[i-2]\n",
    "    return f[n]\n",
    "\n",
    "n=8\n",
    "print('동적계획(테이블화): Fibonacci(%d) ='%n,fib_dp_tab(n))\n",
    "mem=[None]*(n+1)\n",
    "print('동적계획(메모리제이션): Fibonacci(%d)='%n,fib_dp_mem(n))"
   ]
  }
 ],
 "metadata": {
  "kernelspec": {
   "display_name": "base",
   "language": "python",
   "name": "python3"
  },
  "language_info": {
   "codemirror_mode": {
    "name": "ipython",
    "version": 3
   },
   "file_extension": ".py",
   "mimetype": "text/x-python",
   "name": "python",
   "nbconvert_exporter": "python",
   "pygments_lexer": "ipython3",
   "version": "3.11.7"
  }
 },
 "nbformat": 4,
 "nbformat_minor": 2
}
