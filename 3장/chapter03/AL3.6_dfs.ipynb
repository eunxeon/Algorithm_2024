{
 "cells": [
  {
   "cell_type": "code",
   "execution_count": null,
   "metadata": {},
   "outputs": [],
   "source": [
    "def dfs(dfs, start, visited):           #깊이 우선 탐색 알고리즘\n",
    "    if start not in visited:            #start가 방문하지 않은 정점이면\n",
    "        visited.add(start)              #start를 방문한 노드 집합에 추가\n",
    "        print(start, end='')            #start를 방문했다고 출력함\n",
    "        nbr = graph[start] - visited    #nbr: 차지합 연산 이용\n",
    "        for v in nbr:                   #v -> (인접정점)-(방문정점)\n",
    "            dfs(graph, V, visited)      #v에 대해 dfs를 순환적으로 호출"
   ]
  },
  {
   "cell_type": "code",
   "execution_count": null,
   "metadata": {},
   "outputs": [],
   "source": [
    "def dfs(dfs, start, visited):           \n",
    "    if start not in visited:            \n",
    "        visited.add(start)             \n",
    "        print(start, end='')           \n",
    "        nbr = graph[start] - visited   \n",
    "        for v in nbr:                  \n",
    "            dfs(graph, V, visited)      "
   ]
  },
  {
   "cell_type": "markdown",
   "metadata": {},
   "source": []
  }
 ],
 "metadata": {
  "language_info": {
   "name": "python"
  }
 },
 "nbformat": 4,
 "nbformat_minor": 2
}
