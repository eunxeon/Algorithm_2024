{
 "cells": [
  {
   "cell_type": "code",
   "execution_count": null,
   "metadata": {},
   "outputs": [],
   "source": [
    " def calc_height(root):                  #루트노드 root\n",
    "    if root is None:                    #공백 트리이면 ->0을 반환\n",
    "        return 0                        #높이가 0->0을 반환\n",
    "    hLeft = calc_height(root.left)      #왼쪽 트리의 높이->hLeft\n",
    "    hRight = calc_height(root.right)    #오른쪽 트리의 높이->hRight   \n",
    "    return max(hLeft,hRight) + 1        #더 높은 높이에 1을 더해 반환"
   ]
  },
  {
   "cell_type": "code",
   "execution_count": 5,
   "metadata": {},
   "outputs": [
    {
     "name": "stdout",
     "output_type": "stream",
     "text": [
      "트리의 높이 = 3\n"
     ]
    }
   ],
   "source": [
    "class TNode:\n",
    "    def __init__(self,data,left,right):\n",
    "        self.data = data\n",
    "        self.left = left\n",
    "        self.right = right\n",
    "\n",
    "def calc_height(root):                  \n",
    "    if root is None:                   \n",
    "        return 0                       \n",
    "    hLeft = calc_height(root.left)      \n",
    "    hRight = calc_height(root.right)    \n",
    "    return max(hLeft,hRight) + 1 \n",
    "\n",
    "\n",
    "d = TNode('D',None, None)\n",
    "e = TNode('E',None, None)\n",
    "b = TNode('B', d, e)\n",
    "f = TNode('F',None, None)\n",
    "c = TNode('C', f, None)\n",
    "root = TNode('A',b, c)\n",
    "print(\"트리의 높이 =\", calc_height(root))"
   ]
  },
  {
   "cell_type": "markdown",
   "metadata": {},
   "source": [
    "### 알고리즘 예제 5.4\n",
    "##### 문제 정의 : 이진트리의 높이를 구하는 방법\n",
    "##### 알고리즘 설명 : 왼쪽과 오른쪽 서브 트리의 높이 중 더 큰 것에 1을 더한 값, 분할,정복,결합을 사용한다.\n",
    "##### 손으로 푼 예제 : ![image-2.png](attachment:image-2.png)\n",
    "##### 알고리즘 개요 : (입력) root / (출력) 루트가 None이면 0, 왼쪽 오른쪽 서브트리 중 큰 삾에 1을 더한 값 / (함수) calc_height(root)\n",
    "##### 수행 결과 : ![image.png](attachment:image.png)\n",
    "##### 복잡도 분석 : O(n)"
   ]
  }
 ],
 "metadata": {
  "kernelspec": {
   "display_name": "base",
   "language": "python",
   "name": "python3"
  },
  "language_info": {
   "name": "python",
   "version": "3.11.7"
  }
 },
 "nbformat": 4,
 "nbformat_minor": 2
}
