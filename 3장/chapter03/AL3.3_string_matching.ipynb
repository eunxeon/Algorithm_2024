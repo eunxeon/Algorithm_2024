{
 "cells": [
  {
   "cell_type": "code",
   "execution_count": null,
   "metadata": {},
   "outputs": [],
   "source": [
    "def string_matching(T,P):               #T는 입력, P는 패턴\n",
    "    n = len(T)                          #n: 입력 문자열의 길이\n",
    "    m = len(P)                          #m: 패턴 문자열의 길이\n",
    "    for i in range(n-m+1):              #i: 0, 1, ..., n-m\n",
    "        j=0\n",
    "        while j < m and P[j]==T[i+j]:   #패턴 문자열을 모두 비교\n",
    "            j=j+i\n",
    "        if j == m:                      #모든 문자가 일치하면, 매칭 성공\n",
    "            return i                    #현재 위치 반환\n",
    "    return -1                           #문자열 매칭 실패"
   ]
  },
  {
   "cell_type": "code",
   "execution_count": null,
   "metadata": {},
   "outputs": [],
   "source": [
    "T = 'HELLO WORLD'\n",
    "def string_matching(T,P):               \n",
    "    n = len(T)                         \n",
    "    m = len(P)                          \n",
    "    for i in range(n-m+1):              \n",
    "        j=0\n",
    "        while j < m and P[j]==T[i+j]:  \n",
    "            j=j+i\n",
    "        if j == m:                     \n",
    "            return i                    \n",
    "    return -1  \n",
    "\n",
    "P ="
   ]
  },
  {
   "cell_type": "markdown",
   "metadata": {},
   "source": [
    "### 알고리즘 예제 3.3\n",
    "##### 문제 정의 : 길이가 n인 입력 문자열 T와 길이가 m인 패턴 문자열 P가 있다. T에서 가장 먼저 나타나는 P의 위치를 찾아라. 패턴이 없으면 -1을 반환하라.\n",
    "##### 알고리즘 설명 : 텍스트의 첫 번째 문자 위치에 패턴을 놓고 비교한다. 이 과정을 패턴을 오른쪽으로 한 칸씩 옮기면서 성공한 매칭이 나타날 때까지 반복한다.\n",
    "##### 손으로 푼 예제 : 문자열 T와 패턴 문자열 T와 패턴 문자열 P의 길이를 구하고 패턴 문자열을 왼쪽에서부터 한칸씩 옮기며 매칭에 성공 유무에 따라 출역이 달게 나타난다.\n",
    "##### 알고리즘 개요 : 입력 T,P / 출력 패턴P의 위치 또는 -1 / 함수 string_matching(T, P)\n",
    "##### 수행 결과 : \n",
    "##### 복잡도 분석 : 최선의 경우 O(m) / 최악의 경우 O(nm)"
   ]
  }
 ],
 "metadata": {
  "language_info": {
   "name": "python"
  }
 },
 "nbformat": 4,
 "nbformat_minor": 2
}
