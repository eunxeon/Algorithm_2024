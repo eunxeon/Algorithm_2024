{
 "cells": [
  {
   "cell_type": "markdown",
   "metadata": {},
   "source": [
    "#####    알고리즘 6.3~6.4 알고르즘\n",
    "#####    알고리즘 설명:\n",
    "        억지 기법과는 달리 이 알고리즘은 경험적인 전략(휴리스틱)들을 이용함\n",
    "        BANANA의 순으로 APPLEM과 비교하는 것이 아니라 반대로, 즉 ANANAB의 순으로 MELPPA와 비교하는 것이다. 이것은 가능한 한 많은 위치를 검사하지 않고 뛰어넘기 위한 전략이다.\n",
    " \n",
    "#####   손으로 푼 예제 : \n",
    "NO_OF_CHARS = 128\n",
    "\n",
    "def shift_table(pat):\n",
    "    m = len(pat)\n",
    "    tbl = [m] * NO_OF_CHARS\n",
    "\n",
    "    for i in range(m - 1):\n",
    "        tbl[ord(pat[i])] = m - 1 - i\n",
    "    return tbl\n",
    "\n",
    "def search_horspool(T, P):      \n",
    "    m = len(P)      \n",
    "    n = len(T)       \n",
    "    t = shift_table(P)    \n",
    "    i = m - 1        \n",
    "    while i <= n - 1:    \n",
    "      k = 0            \n",
    "      while k <= m - 1 and P[m - 1 - k] == T[i - k]:    \n",
    "            k += 1      \n",
    "            if k == m:       \n",
    "               return i - m + 1    \n",
    "            else:     \n",
    "               tc = t[ord(T[i])]    \n",
    "               i += tc    \n",
    "      return -1            \n",
    "                      \n",
    "  \n",
    "######    코드 개요(입력 변수, 출력, 함수 설명) \n",
    "######    입력 변수: \n",
    "print(\"패턴의 위치: \", search_horspool(\"APPLEMANGOBANANAGRAPE\", \"BANANA\"))\n",
    "                       \n",
    "#####    출력: \n",
    "             패턴의 위치:  10\n",
    "##### 복잡도 분석 :\n",
    "###### 최악의 경우 6행의 외부 루프는 n-m번 반복한다 또한 최악의 경우  하나의 위치에서 패턴을 비교하는데 패턴의 길이(m)만큼의 비교가 필요하다. 따라서 최악의 경우 시작 복잡도는 O(mn)이다. 그러나 평균적인 경우의 이 알고리즘의 성능을 훨씬 좋은 것으로, 무작위의 텍스트에 대해 O(n)의 성능이 나타나고, 이것은 억지 기법보다 훨씬  효율적이다. 특히 이 알고리즘은 훨씬 복잡한 방법을 사용하는 보이어-무어 알고리즘에 비해서도 별로 느리지 않은 것으로 알려져 있다."
   ]
  },
  {
   "cell_type": "code",
   "execution_count": 13,
   "metadata": {},
   "outputs": [
    {
     "name": "stdout",
     "output_type": "stream",
     "text": [
      "패턴의 위치:  10\n"
     ]
    }
   ],
   "source": [
    "NO_OF_CHARS = 128\n",
    "\n",
    "def shift_table(pat):\n",
    "    m = len(pat)\n",
    "    tbl = [m] * NO_OF_CHARS\n",
    "\n",
    "    for i in range(m - 1):\n",
    "        tbl[ord(pat[i])] = m - 1 - i\n",
    "    return tbl\n",
    "\n",
    "def search_horspool(T, P):\n",
    "    m = len(P)\n",
    "    n = len(T)\n",
    "    t = shift_table(P)\n",
    "    i = m - 1\n",
    "    while i <= n - 1:\n",
    "      k = 0\n",
    "      while k <= m - 1 and P[m - 1 - k] == T[i - k]:\n",
    "            k += 1\n",
    "            if k == m:\n",
    "               return i - m + 1\n",
    "            else:\n",
    "               tc = t[ord(T[i])]\n",
    "               i += tc\n",
    "      return -1\n",
    "\n",
    "print(\"패턴의 위치: \", search_horspool(\"APPLEMANGOBANANAGRAPE\", \"BANANA\"))\n",
    "\n"
   ]
  },
  {
   "cell_type": "code",
   "execution_count": null,
   "metadata": {},
   "outputs": [],
   "source": []
  }
 ],
 "metadata": {
  "kernelspec": {
   "display_name": "base",
   "language": "python",
   "name": "python3"
  },
  "language_info": {
   "codemirror_mode": {
    "name": "ipython",
    "version": 3
   },
   "file_extension": ".py",
   "mimetype": "text/x-python",
   "name": "python",
   "nbconvert_exporter": "python",
   "pygments_lexer": "ipython3",
   "version": "3.11.7"
  }
 },
 "nbformat": 4,
 "nbformat_minor": 2
}
