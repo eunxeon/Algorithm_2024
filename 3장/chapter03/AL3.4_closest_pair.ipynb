{
 "cells": [
  {
   "cell_type": "code",
   "execution_count": null,
   "metadata": {},
   "outputs": [],
   "source": [
    "def closest_pair(p):\n",
    "    n = len(p)                          #점의 전체 개수\n",
    "    mindist = float(\"inf\")              #최근접 거리 초기화(무한대)\n",
    "    for i in range(n-1):\n",
    "        for j in range(i+1, n):\n",
    "            dist = distance(p[i], p[j]) #유클리드 거리 계산\n",
    "            if dist < mindist:\n",
    "                mindist = dist\n",
    "    return mindist"
   ]
  },
  {
   "cell_type": "code",
   "execution_count": null,
   "metadata": {},
   "outputs": [],
   "source": [
    "def closest_pair(p):\n",
    "    n = len(p)                          \n",
    "    mindist = float(\"inf\")              \n",
    "    for i in range(n-1):\n",
    "        for j in range(i+1, n):\n",
    "            dist = distance(p[i], p[j]) \n",
    "            if dist < mindist:\n",
    "                mindist = dist\n",
    "    return mindist\n",
    "p =[(2, 3), (12, 30), (40, 50), (5, 1), (12, 10), (3, 4)]\n",
    "print(\"최근접 거리\", closest_pair(p))"
   ]
  },
  {
   "cell_type": "markdown",
   "metadata": {},
   "source": [
    "### 알고리즘 예제 3.4\n",
    "##### 문제 정의 : 2차원 평면상에 n개의 점이 있다. 가장 인접한 쌍의 거리를 구하라.\n",
    "##### 알고리즘 설명 : 가능한 모든 점의 쌍 (p_i,p_j)에 거리를 계산하고, 가장 짧은 것을 찾는다.\n",
    "##### 손으로 푼 예제 : ![image-2.png](attachment:image-2.png)\n",
    "##### 알고리즘 개요 : (입력) data / (출력) 리스트가 정리되는 중간 과정 / (함수) selection_sort(A)\n",
    "##### 수행 결과 : ![image.png](attachment:image.png)\n",
    "##### 복잡도 분석 : O(n^2)"
   ]
  }
 ],
 "metadata": {
  "language_info": {
   "name": "python"
  }
 },
 "nbformat": 4,
 "nbformat_minor": 2
}
