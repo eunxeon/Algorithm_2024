{
 "cells": [
  {
   "cell_type": "code",
   "execution_count": 5,
   "metadata": {},
   "outputs": [],
   "source": [
    "def selection_sort(A):\n",
    "    n = len(A)\n",
    "    for i in range(n-1):\n",
    "        least = i \n",
    "        for j in range(i+1, n):\n",
    "            if (A[j]<A[least]):\n",
    "                least = j\n",
    "        A[i], A[least] = A[least], A[i]\n",
    "        print(A, i + 1)"
   ]
  },
  {
   "cell_type": "code",
   "execution_count": 8,
   "metadata": {},
   "outputs": [],
   "source": [
    "A = [3, 5, 6, 8, 9]\n",
    "def selection_sort(A):\n",
    "    n = len(A)\n",
    "    for i in range(n-1):\n",
    "        least = i \n",
    "        for j in range(i+1, n):\n",
    "            if (A[j]<A[least]):\n",
    "                least = j\n",
    "        A[i], A[least] = A[least], A[i]\n",
    "        print(A, i + 1)"
   ]
  },
  {
   "cell_type": "markdown",
   "metadata": {},
   "source": [
    "## 알고리즘 예제 3.1\n",
    "### 문제 정의: \n",
    "### 손으로 푼 예제:\n",
    "### 알고리즘 개요: \n",
    "### 수행 결과:"
   ]
  }
 ],
 "metadata": {
  "kernelspec": {
   "display_name": "base",
   "language": "python",
   "name": "python3"
  },
  "language_info": {
   "codemirror_mode": {
    "name": "ipython",
    "version": 3
   },
   "file_extension": ".py",
   "mimetype": "text/x-python",
   "name": "python",
   "nbconvert_exporter": "python",
   "pygments_lexer": "ipython3",
   "version": "3.11.7"
  }
 },
 "nbformat": 4,
 "nbformat_minor": 2
}
