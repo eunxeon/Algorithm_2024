{
 "cells": [
  {
   "cell_type": "code",
   "execution_count": null,
   "metadata": {},
   "outputs": [],
   "source": [
    "def knapSack_dc(W,wt,val,n):\n",
    "    if n==0 or W==0:                        #기반 상황\n",
    "        return 0\n",
    "    \n",
    "    if (wt[n-1]>W):                         #넣을 수 없음\n",
    "        return knapSack_bf(W,wt,val,n-1)    #나머지 항목들로 처리\n",
    "    else:\n",
    "        valWithout = knapSack_bf(W,wt,val,n-1)\n",
    "        valWith = val[n-1] + knapSack_bf(W-wt[n-1],wt,val,n-1)\n",
    "        return max(valWith,valWithout)      #둘 중에서 더 큰 값\n",
    "    \n",
    "    def knapSack_dp(W,wt,val,n):\n",
    "        A = [[0 for x in range(W+1)] for x in range(n+1)]\n",
    "\n",
    "        for i in range(1, n+1):\n",
    "            for w in range(1,W+1):\n",
    "                if wt[i+1]>w:\n",
    "                    A[i][w] = A[i-1][w]\n",
    "                else:\n",
    "                    valWith = val[i-1] + A[i-1][w-wt[i-1]]\n",
    "                    valWithout = A[i-1][w]\n",
    "                    A[i][w] = max(valWith, valWithout)\n",
    "\n",
    "        return A[n][W]"
   ]
  },
  {
   "cell_type": "code",
   "execution_count": 3,
   "metadata": {},
   "outputs": [
    {
     "name": "stdout",
     "output_type": "stream",
     "text": [
      "0-1배낭문제(분활 정복):  480\n"
     ]
    },
    {
     "ename": "IndexError",
     "evalue": "list index out of range",
     "output_type": "error",
     "traceback": [
      "\u001b[1;31m---------------------------------------------------------------------------\u001b[0m",
      "\u001b[1;31mIndexError\u001b[0m                                Traceback (most recent call last)",
      "Cell \u001b[1;32mIn[3], line 32\u001b[0m\n\u001b[0;32m     30\u001b[0m n \u001b[38;5;241m=\u001b[39m \u001b[38;5;28mlen\u001b[39m(val)\n\u001b[0;32m     31\u001b[0m \u001b[38;5;28mprint\u001b[39m(\u001b[38;5;124m\"\u001b[39m\u001b[38;5;124m0-1배낭문제(분활 정복): \u001b[39m\u001b[38;5;124m\"\u001b[39m, knapSack_dc(W,wt,val,n))\n\u001b[1;32m---> 32\u001b[0m \u001b[38;5;28mprint\u001b[39m(\u001b[38;5;124m\"\u001b[39m\u001b[38;5;124m0-1배낭문제(동적 계획): \u001b[39m\u001b[38;5;124m\"\u001b[39m, knapSack_dp(W,wt,val,n))\n",
      "Cell \u001b[1;32mIn[3], line 17\u001b[0m, in \u001b[0;36mknapSack_dp\u001b[1;34m(W, wt, val, n)\u001b[0m\n\u001b[0;32m     15\u001b[0m \u001b[38;5;28;01mfor\u001b[39;00m i \u001b[38;5;129;01min\u001b[39;00m \u001b[38;5;28mrange\u001b[39m(\u001b[38;5;241m1\u001b[39m, n\u001b[38;5;241m+\u001b[39m\u001b[38;5;241m1\u001b[39m):\n\u001b[0;32m     16\u001b[0m     \u001b[38;5;28;01mfor\u001b[39;00m w \u001b[38;5;129;01min\u001b[39;00m \u001b[38;5;28mrange\u001b[39m(\u001b[38;5;241m1\u001b[39m,W\u001b[38;5;241m+\u001b[39m\u001b[38;5;241m1\u001b[39m):\n\u001b[1;32m---> 17\u001b[0m         \u001b[38;5;28;01mif\u001b[39;00m wt[i\u001b[38;5;241m+\u001b[39m\u001b[38;5;241m1\u001b[39m]\u001b[38;5;241m>\u001b[39mw:\n\u001b[0;32m     18\u001b[0m             A[i][w] \u001b[38;5;241m=\u001b[39m A[i\u001b[38;5;241m-\u001b[39m\u001b[38;5;241m1\u001b[39m][w]\n\u001b[0;32m     19\u001b[0m         \u001b[38;5;28;01melse\u001b[39;00m:\n",
      "\u001b[1;31mIndexError\u001b[0m: list index out of range"
     ]
    }
   ],
   "source": [
    "def knapSack_dc(W,wt,val,n):\n",
    "    if n==0 or W==0:                        #기반 상황\n",
    "        return 0\n",
    "    \n",
    "    if (wt[n-1]>W):                         #넣을 수 없음\n",
    "        return knapSack_dc(W,wt,val,n-1)    #나머지 항목들로 처리\n",
    "    else:\n",
    "        valWithout = knapSack_dc(W,wt,val,n-1)\n",
    "        valWith = val[n-1] + knapSack_dc(W-wt[n-1],wt,val,n-1)\n",
    "        return max(valWith,valWithout)      #둘 중에서 더 큰 값\n",
    "    \n",
    "def knapSack_dp(W,wt,val,n):\n",
    "    A = [[0 for x in range(W+1)] for x in range(n+1)]\n",
    "\n",
    "    for i in range(1, n+1):\n",
    "        for w in range(1,W+1):\n",
    "            if wt[i+1]>w:\n",
    "                A[i][w] = A[i-1][w]\n",
    "            else:\n",
    "                valWith = val[i-1] + A[i-1][w-wt[i-1]]\n",
    "                valWithout = A[i-1][w]\n",
    "                A[i][w] = max(valWith, valWithout)\n",
    "\n",
    "    return A[n][W]\n",
    "\n",
    "\n",
    "val = [60, 100, 190,120,200,150]\n",
    "wt = [2,5,8,4,7,6]\n",
    "W = 18\n",
    "n = len(val)\n",
    "print(\"0-1배낭문제(분활 정복): \", knapSack_dc(W,wt,val,n))\n",
    "print(\"0-1배낭문제(동적 계획): \", knapSack_dp(W,wt,val,n))"
   ]
  },
  {
   "cell_type": "code",
   "execution_count": null,
   "metadata": {},
   "outputs": [],
   "source": [
    "### 알고리즘 예제 : 7.5~7.6\n",
    "##### 문제 정의 : 배낭 채우기(분할정복기법)\n",
    "##### 알고리즘 설명 : 1.항목들을 저장할 버킷들을 준비한다.\n",
    "#####                 2.입력 항목들을 순서대로 킷값에 따라 해당 버킷에 넣는다.\n",
    "#####                 3.위쪽 버킷부터 순차적으로 버킷 안에 들어 있는 숫자를 출력한다.\n",
    "##### 손으로 푼 예제 : ![image.png](attachment:image.png)\n",
    "##### 알고리즘 개요 : (입력) data  / (출력) 정렬된 리스트data / (함수) radix_sort(A)\n",
    "##### 수행 결과 : ![image-2.png](attachment:image-2.png)\n",
    "##### 복잡도 분석 : 숫자를 삽입하는 내부루프가 n번 반복하므로 O(n)"
   ]
  }
 ],
 "metadata": {
  "kernelspec": {
   "display_name": "base",
   "language": "python",
   "name": "python3"
  },
  "language_info": {
   "codemirror_mode": {
    "name": "ipython",
    "version": 3
   },
   "file_extension": ".py",
   "mimetype": "text/x-python",
   "name": "python",
   "nbconvert_exporter": "python",
   "pygments_lexer": "ipython3",
   "version": "3.11.7"
  }
 },
 "nbformat": 4,
 "nbformat_minor": 2
}
