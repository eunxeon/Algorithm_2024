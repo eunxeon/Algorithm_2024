{
 "cells": [
  {
   "cell_type": "code",
   "execution_count": null,
   "metadata": {},
   "outputs": [],
   "source": [
    "def sequential_search(A, key):\n",
    "    for i in range(len(A)):\n",
    "        if A[i] == key:\n",
    "            return 1\n",
    "    return -1"
   ]
  },
  {
   "cell_type": "code",
   "execution_count": null,
   "metadata": {},
   "outputs": [],
   "source": [
    "A = [3, 5, 7, 6, 9, 8]\n",
    "def sequential_search(A, key):\n",
    "    for i in range(len(A)):\n",
    "        if A[i] == key:\n",
    "            return 1\n",
    "    return -1"
   ]
  }
 ],
 "metadata": {
  "language_info": {
   "name": "python"
  }
 },
 "nbformat": 4,
 "nbformat_minor": 2
}
