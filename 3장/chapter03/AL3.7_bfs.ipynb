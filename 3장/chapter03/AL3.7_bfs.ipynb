{
 "cells": [
  {
   "cell_type": "code",
   "execution_count": null,
   "metadata": {},
   "outputs": [],
   "source": [
    "import queue\n",
    "def bfs(graph, start):\n",
    "    visited = {start}\n",
    "    que = queue.Queue()\n",
    "    que.put(start)\n",
    "    while not que.empty():\n",
    "        v = que.get()\n",
    "        print(v, end='')\n",
    "        nbr = graph[v] - visited\n",
    "        for u in nbr:\n",
    "            visited.add(u)\n",
    "            que.put(u)"
   ]
  },
  {
   "cell_type": "code",
   "execution_count": 1,
   "metadata": {},
   "outputs": [
    {
     "name": "stdout",
     "output_type": "stream",
     "text": [
      "BFS :  ABCDEFHG\n"
     ]
    }
   ],
   "source": [
    "import queue\n",
    "def bfs(graph, start):\n",
    "    visited = {start}\n",
    "    que = queue.Queue()\n",
    "    que.put(start)\n",
    "    while not que.empty():\n",
    "        v = que.get()\n",
    "        print(v, end='')\n",
    "        nbr = graph[v] - visited\n",
    "        for u in nbr:\n",
    "            visited.add(u)\n",
    "            que.put(u)\n",
    "mygraph =  {\"A\":{\"B\", \"C\"}, \"B\":{\"A\", \"D\"}, \"C\":{\"A\", \"D\", \"E\"}, \"D\":{\"B\", \"C\", \"F\"}, \"E\":{\"C\", \"G\", \"H\"}, \"F\":{\"D\"}, \"G\":{\"E\", \"H\"}, \"H\":{\"E\", \"G\"}}\n",
    "\n",
    "print('BFS : ', end= \" \")\n",
    "bfs(mygraph, \"A\")\n",
    "print()"
   ]
  },
  {
   "attachments": {
    "image.png": {
     "image/png": "[encoded data removed]"
    }
   },
   "cell_type": "markdown",
   "metadata": {},
   "source": [
    "### 알고리즘 예제 3.7\n",
    "##### 문제 정의 :  n명의 근로자와 n가지의 일이 있다. 각 근로자는모든 일을 다 처리할 수 있지만 비용은 각각 다르게 선정되어 있다. 전체 비용을 최소화하면서 모든 근로자에게 하나씩의 일을 배정하는 경우의 전체 비용을 계산하라.\n",
    "##### 알고리즘 설명 : 그래프 순회에 완전 탐색의 개념을 적용하면 모든 정점을 체계적으로 방문할 수 있는 두 가지 중요한 방법을 얻을 수 있다.\n",
    "##### 손으로 푼 예제 : ![image.png](attachment:image.png)\n",
    "##### 알고리즘 개요 : (입력) mygraph / (출력) dfs를 순환적으로 호출 / (함수) bfs(graph, start)\n",
    "##### 수행 결과 : ![image.png](attachment:image.png)\n",
    "##### 복잡도 분석 : O(n^2)"
   ]
  }
 ],
 "metadata": {
  "kernelspec": {
   "display_name": "base",
   "language": "python",
   "name": "python3"
  },
  "language_info": {
   "codemirror_mode": {
    "name": "ipython",
    "version": 3
   },
   "file_extension": ".py",
   "mimetype": "text/x-python",
   "name": "python",
   "nbconvert_exporter": "python",
   "pygments_lexer": "ipython3",
   "version": "3.11.7"
  }
 },
 "nbformat": 4,
 "nbformat_minor": 2
}
