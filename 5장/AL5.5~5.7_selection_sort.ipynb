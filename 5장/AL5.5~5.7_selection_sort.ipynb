{
 "cells": [
  {
   "cell_type": "markdown",
   "metadata": {},
   "source": [
    "#####    알고리즘 5.5~5.7 이진트리 전위, 중위, 후위 순회\n",
    "#####    알고리즘 설명:\n",
    "          이진트리의 순회 알고리즘들은 다음과 같이 순환구조를 사용하면 간단하게 기술할 수 잇ㅅ다 , 코드에서\n",
    "          print(n,data, end=' ')는 이진트리의 루트노드를 처리하는 문장인데, 여기서 단순하게 노드의 data를 화면에 출력한다.\n",
    "          전위 순회(preprder traversal) ,중위 순회(inorder traversal): LVR, 후위 순회(postorder trabersal): LRV\n",
    "\n",
    "#####   손으로 푼 예제 : \n",
    "###### 이진트리의 순회 알고리즘들은 다음과 같이 순환구조를 사용하연 간단하게 기술할 수 있다 코드에서 prit(n.data, end=' ')는 이진트리의 루트노드를 처리하는 문장인데, 여기서 단순하게 노드의 data를 화면의 출력한다.\n",
    "  \n",
    "######    코드 개요(입력 변수, 출력, 함수 설명) \n",
    "######    입력 변수: \n",
    "            class TNode:\n",
    "    def __init__(self, data, left, right):    \n",
    "        self.data = data   \n",
    "        self.left = left   \n",
    "        self.right = right    \n",
    "            d = TNode('D', None, None)    \n",
    "            e = TNode('E', None, None)    \n",
    "b           e= TNode('B',d,e)   \n",
    "            f = TNode('F', None, None)    \n",
    "            c = TNode('C', f, None)    \n",
    "            root = TNode('A',b,c)   \n",
    "#####    출력: \n",
    "             In-order : D B E A F C \n",
    "             Pre-Order : A B D E C F \n",
    "            Post-Order : D E B F C A \n",
    "            \n",
    "#####    복잡도 분석 : 시간 복잡도는 높이 계산에서와 동일한 방법으로 구할수 있다. 각 알고리즘에서 출력문(print(n.data, end=\" \"))을 기본 연산으로 하면 복잡도 함수는 명확히 T(n) = n이고, O(n)에 속한다. 만약 모든 알고리즘에서 2행의 공백트리 검사를 기본연산으로 한다면, 확장된 트리의 모든 노드에서 검사가 이루어져야 한다. 따라서 T(n) = n+x이고 역시 O(n)에 속한다."
   ]
  },
  {
   "cell_type": "code",
   "execution_count": 1,
   "metadata": {},
   "outputs": [
    {
     "name": "stdout",
     "output_type": "stream",
     "text": [
      " In-order : D B E A F C \n",
      " Pre-Order : A B D E C F \n",
      " Post-Order : D E B F C A \n"
     ]
    }
   ],
   "source": [
    "def preorder(n):\n",
    "    if n is not None:\n",
    "        print(n.data,end=' ')\n",
    "        preorder(n.left)\n",
    "        preorder(n.right)\n",
    "\n",
    "def inorder(n):\n",
    "    if n is not None:\n",
    "        inorder(n.left)\n",
    "        print(n.data, end=' ')\n",
    "        inorder(n.right)\n",
    "\n",
    "def postotder(n):\n",
    "    if n is not None:\n",
    "        postotder(n.left)\n",
    "        postotder(n.right)\n",
    "        print(n.data, end= ' ')\n",
    "\n",
    "class TNode:\n",
    "    def __init__(self, data, left, right):\n",
    "        self.data = data\n",
    "        self.left = left\n",
    "        self.right = right\n",
    "d = TNode('D', None, None)\n",
    "e = TNode('E', None, None) \n",
    "b = TNode('B',d,e)\n",
    "f = TNode('F', None, None)\n",
    "c = TNode('C', f, None)\n",
    "root = TNode('A',b,c)\n",
    "print(' In-order : ',end='')\n",
    "inorder(root)\n",
    "print()\n",
    "print(' Pre-Order : ', end='')\n",
    "preorder(root)\n",
    "print()\n",
    "print(' Post-Order : ', end='')\n",
    "postotder(root)\n",
    "print()"
   ]
  }
 ],
 "metadata": {
  "kernelspec": {
   "display_name": "base",
   "language": "python",
   "name": "python3"
  },
  "language_info": {
   "codemirror_mode": {
    "name": "ipython",
    "version": 3
   },
   "file_extension": ".py",
   "mimetype": "text/x-python",
   "name": "python",
   "nbconvert_exporter": "python",
   "pygments_lexer": "ipython3",
   "version": "3.11.7"
  }
 },
 "nbformat": 4,
 "nbformat_minor": 2
}
