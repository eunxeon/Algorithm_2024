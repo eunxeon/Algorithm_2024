{
 "cells": [
  {
   "cell_type": "code",
   "execution_count": 9,
   "metadata": {},
   "outputs": [
    {
     "name": "stdout",
     "output_type": "stream",
     "text": [
      "원래 데이터: ['a', 'F', 'c', 'Z', 'y', 'D', 'o']\n",
      "카운팅 번호: [32, 37, 34, 57, 56, 35, 46]\n",
      "정렬된 카운팅 번호: [32, 34, 35, 37, 46, 56, 57]\n",
      "정렬된 데이터: ['a', 'c', 'd', 'f', 'o', 'y', 'z']\n"
     ]
    }
   ],
   "source": [
    "def counting_sort(A):\n",
    "    output = [0] * len(A)   # 정렬 결과 저장용 임시 리스트\n",
    "    count = [0] * MAX_VAL   # 각 숫자의 빈도를 저장\n",
    "\n",
    "    for i in A:             # 각 숫자별 빈도를 계산\n",
    "        count[i] += 1\n",
    "\n",
    "    for i in range(1, MAX_VAL):     # count[i]가 출력 배열에서\n",
    "        count[i] += count[i - 1]    # 해당 숫자의 위치가 되도록 수정\n",
    "    \n",
    "    for i in range(len(A)-1, -1, -1):       # 모든 입력 항목 A[i]에 대해\n",
    "        output[count[A[i]] - 1] = A[i]      # 해당 위치(count[A[i]]-1)에 저장\n",
    "        count[A[i]] -= 1                    # 각 값 A[i]의 위치를 하나 줄임\n",
    "\n",
    "    for i in range(len(A)):             # 정렬 결과를 원래 배열에 복사\n",
    "        A[i] = output[i]\n",
    "\n",
    "data = ['a', 'F', 'c', 'Z', 'y', 'D', 'o']\n",
    "print(\"원래 데이터:\", data)\n",
    "\n",
    "MAX_VAL = ord('z') - ord('A') + 1\n",
    "code = []                               \n",
    "for ch in data:\n",
    "    code.append(ord(ch.lower()) - ord('A')) # 문자 -> 숫자\n",
    "\n",
    "print(\"카운팅 번호:\", code)\n",
    "\n",
    "counting_sort(code)\n",
    "print(\"정렬된 카운팅 번호:\", code)\n",
    "\n",
    "sorted_data = []\n",
    "for i in code:\n",
    "    sorted_data.append(chr(i + ord('A')))   # 숫자 -> 문자\n",
    "\n",
    "print(\"정렬된 데이터:\", sorted_data)\n"
   ]
  },
  {
   "cell_type": "markdown",
   "metadata": {},
   "source": [
    "#####알파벳 소문자와 대문자 (a~z,A~Z)만으로 이루어진 리스트를 알파벳 순으로 정렬하는 코드를 카운팅 정렬로 구현하라."
   ]
  }
 ],
 "metadata": {
  "kernelspec": {
   "display_name": "base",
   "language": "python",
   "name": "python3"
  },
  "language_info": {
   "codemirror_mode": {
    "name": "ipython",
    "version": 3
   },
   "file_extension": ".py",
   "mimetype": "text/x-python",
   "name": "python",
   "nbconvert_exporter": "python",
   "pygments_lexer": "ipython3",
   "version": "3.11.7"
  }
 },
 "nbformat": 4,
 "nbformat_minor": 2
}
